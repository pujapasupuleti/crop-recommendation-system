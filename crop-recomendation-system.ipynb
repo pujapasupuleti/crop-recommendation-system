{
 "cells": [
  {
   "cell_type": "code",
   "execution_count": 71,
   "id": "63e46327",
   "metadata": {
    "ExecuteTime": {
     "end_time": "2023-11-29T17:17:16.490400Z",
     "start_time": "2023-11-29T17:17:16.364046Z"
    }
   },
   "outputs": [],
   "source": [
    "import numpy as np\n",
    "import pandas as pd"
   ]
  },
  {
   "cell_type": "code",
   "execution_count": 72,
   "id": "2522a44f",
   "metadata": {
    "ExecuteTime": {
     "end_time": "2023-11-29T17:17:16.491884Z",
     "start_time": "2023-11-29T17:17:16.366594Z"
    }
   },
   "outputs": [
    {
     "data": {
      "text/plain": "   temperature   humidity  soilmoisture label\n0    20.879744  82.002744    202.935536  rice\n1    21.770462  80.319644    226.655537  rice\n2    23.004459  82.320763    263.964248  rice\n3    26.491096  80.158363    242.864034  rice\n4    20.130175  81.604873    262.717340  rice",
      "text/html": "<div>\n<style scoped>\n    .dataframe tbody tr th:only-of-type {\n        vertical-align: middle;\n    }\n\n    .dataframe tbody tr th {\n        vertical-align: top;\n    }\n\n    .dataframe thead th {\n        text-align: right;\n    }\n</style>\n<table border=\"1\" class=\"dataframe\">\n  <thead>\n    <tr style=\"text-align: right;\">\n      <th></th>\n      <th>temperature</th>\n      <th>humidity</th>\n      <th>soilmoisture</th>\n      <th>label</th>\n    </tr>\n  </thead>\n  <tbody>\n    <tr>\n      <th>0</th>\n      <td>20.879744</td>\n      <td>82.002744</td>\n      <td>202.935536</td>\n      <td>rice</td>\n    </tr>\n    <tr>\n      <th>1</th>\n      <td>21.770462</td>\n      <td>80.319644</td>\n      <td>226.655537</td>\n      <td>rice</td>\n    </tr>\n    <tr>\n      <th>2</th>\n      <td>23.004459</td>\n      <td>82.320763</td>\n      <td>263.964248</td>\n      <td>rice</td>\n    </tr>\n    <tr>\n      <th>3</th>\n      <td>26.491096</td>\n      <td>80.158363</td>\n      <td>242.864034</td>\n      <td>rice</td>\n    </tr>\n    <tr>\n      <th>4</th>\n      <td>20.130175</td>\n      <td>81.604873</td>\n      <td>262.717340</td>\n      <td>rice</td>\n    </tr>\n  </tbody>\n</table>\n</div>"
     },
     "execution_count": 72,
     "metadata": {},
     "output_type": "execute_result"
    }
   ],
   "source": [
    "crop = pd.read_csv(\"Crop_recommendation1.csv\")\n",
    "crop.head()"
   ]
  },
  {
   "cell_type": "code",
   "execution_count": 73,
   "id": "b06af8c4",
   "metadata": {
    "ExecuteTime": {
     "end_time": "2023-11-29T17:17:16.492238Z",
     "start_time": "2023-11-29T17:17:16.377164Z"
    }
   },
   "outputs": [
    {
     "data": {
      "text/plain": "(2200, 4)"
     },
     "execution_count": 73,
     "metadata": {},
     "output_type": "execute_result"
    }
   ],
   "source": [
    "crop.shape"
   ]
  },
  {
   "cell_type": "code",
   "execution_count": 74,
   "id": "5d206a57",
   "metadata": {
    "ExecuteTime": {
     "end_time": "2023-11-29T17:17:16.492676Z",
     "start_time": "2023-11-29T17:17:16.380296Z"
    }
   },
   "outputs": [
    {
     "name": "stdout",
     "output_type": "stream",
     "text": [
      "<class 'pandas.core.frame.DataFrame'>\n",
      "RangeIndex: 2200 entries, 0 to 2199\n",
      "Data columns (total 4 columns):\n",
      " #   Column        Non-Null Count  Dtype  \n",
      "---  ------        --------------  -----  \n",
      " 0   temperature   2200 non-null   float64\n",
      " 1   humidity      2200 non-null   float64\n",
      " 2   soilmoisture  2200 non-null   float64\n",
      " 3   label         2200 non-null   object \n",
      "dtypes: float64(3), object(1)\n",
      "memory usage: 68.9+ KB\n"
     ]
    }
   ],
   "source": [
    "crop.info()"
   ]
  },
  {
   "cell_type": "code",
   "execution_count": 75,
   "id": "536b28a1",
   "metadata": {
    "ExecuteTime": {
     "end_time": "2023-11-29T17:17:16.492923Z",
     "start_time": "2023-11-29T17:17:16.387535Z"
    }
   },
   "outputs": [
    {
     "data": {
      "text/plain": "temperature     0\nhumidity        0\nsoilmoisture    0\nlabel           0\ndtype: int64"
     },
     "execution_count": 75,
     "metadata": {},
     "output_type": "execute_result"
    }
   ],
   "source": [
    "crop.isnull().sum()"
   ]
  },
  {
   "cell_type": "code",
   "execution_count": 76,
   "id": "12cc79d4",
   "metadata": {
    "ExecuteTime": {
     "end_time": "2023-11-29T17:17:16.493157Z",
     "start_time": "2023-11-29T17:17:16.391003Z"
    }
   },
   "outputs": [
    {
     "data": {
      "text/plain": "0"
     },
     "execution_count": 76,
     "metadata": {},
     "output_type": "execute_result"
    }
   ],
   "source": [
    "crop.duplicated().sum()"
   ]
  },
  {
   "cell_type": "code",
   "execution_count": 77,
   "id": "3769b5c5",
   "metadata": {
    "ExecuteTime": {
     "end_time": "2023-11-29T17:17:16.493747Z",
     "start_time": "2023-11-29T17:17:16.394952Z"
    }
   },
   "outputs": [
    {
     "data": {
      "text/plain": "       temperature     humidity  soilmoisture\ncount  2200.000000  2200.000000   2200.000000\nmean     25.616244    71.481779    103.463655\nstd       5.063749    22.263812     54.958389\nmin       8.825675    14.258040     20.211267\n25%      22.769375    60.261953     64.551686\n50%      25.598693    80.473146     94.867624\n75%      28.561654    89.948771    124.267508\nmax      43.675493    99.981876    298.560117",
      "text/html": "<div>\n<style scoped>\n    .dataframe tbody tr th:only-of-type {\n        vertical-align: middle;\n    }\n\n    .dataframe tbody tr th {\n        vertical-align: top;\n    }\n\n    .dataframe thead th {\n        text-align: right;\n    }\n</style>\n<table border=\"1\" class=\"dataframe\">\n  <thead>\n    <tr style=\"text-align: right;\">\n      <th></th>\n      <th>temperature</th>\n      <th>humidity</th>\n      <th>soilmoisture</th>\n    </tr>\n  </thead>\n  <tbody>\n    <tr>\n      <th>count</th>\n      <td>2200.000000</td>\n      <td>2200.000000</td>\n      <td>2200.000000</td>\n    </tr>\n    <tr>\n      <th>mean</th>\n      <td>25.616244</td>\n      <td>71.481779</td>\n      <td>103.463655</td>\n    </tr>\n    <tr>\n      <th>std</th>\n      <td>5.063749</td>\n      <td>22.263812</td>\n      <td>54.958389</td>\n    </tr>\n    <tr>\n      <th>min</th>\n      <td>8.825675</td>\n      <td>14.258040</td>\n      <td>20.211267</td>\n    </tr>\n    <tr>\n      <th>25%</th>\n      <td>22.769375</td>\n      <td>60.261953</td>\n      <td>64.551686</td>\n    </tr>\n    <tr>\n      <th>50%</th>\n      <td>25.598693</td>\n      <td>80.473146</td>\n      <td>94.867624</td>\n    </tr>\n    <tr>\n      <th>75%</th>\n      <td>28.561654</td>\n      <td>89.948771</td>\n      <td>124.267508</td>\n    </tr>\n    <tr>\n      <th>max</th>\n      <td>43.675493</td>\n      <td>99.981876</td>\n      <td>298.560117</td>\n    </tr>\n  </tbody>\n</table>\n</div>"
     },
     "execution_count": 77,
     "metadata": {},
     "output_type": "execute_result"
    }
   ],
   "source": [
    "crop.describe()"
   ]
  },
  {
   "cell_type": "code",
   "execution_count": 78,
   "id": "90892cc1",
   "metadata": {
    "ExecuteTime": {
     "end_time": "2023-11-29T17:17:16.494282Z",
     "start_time": "2023-11-29T17:17:16.402299Z"
    }
   },
   "outputs": [
    {
     "data": {
      "text/plain": "              temperature  humidity  soilmoisture\ntemperature      1.000000  0.205320     -0.030084\nhumidity         0.205320  1.000000      0.094423\nsoilmoisture    -0.030084  0.094423      1.000000",
      "text/html": "<div>\n<style scoped>\n    .dataframe tbody tr th:only-of-type {\n        vertical-align: middle;\n    }\n\n    .dataframe tbody tr th {\n        vertical-align: top;\n    }\n\n    .dataframe thead th {\n        text-align: right;\n    }\n</style>\n<table border=\"1\" class=\"dataframe\">\n  <thead>\n    <tr style=\"text-align: right;\">\n      <th></th>\n      <th>temperature</th>\n      <th>humidity</th>\n      <th>soilmoisture</th>\n    </tr>\n  </thead>\n  <tbody>\n    <tr>\n      <th>temperature</th>\n      <td>1.000000</td>\n      <td>0.205320</td>\n      <td>-0.030084</td>\n    </tr>\n    <tr>\n      <th>humidity</th>\n      <td>0.205320</td>\n      <td>1.000000</td>\n      <td>0.094423</td>\n    </tr>\n    <tr>\n      <th>soilmoisture</th>\n      <td>-0.030084</td>\n      <td>0.094423</td>\n      <td>1.000000</td>\n    </tr>\n  </tbody>\n</table>\n</div>"
     },
     "execution_count": 78,
     "metadata": {},
     "output_type": "execute_result"
    }
   ],
   "source": [
    "corr=crop.drop(['label'],axis=1).corr()\n",
    "corr"
   ]
  },
  {
   "cell_type": "code",
   "execution_count": 79,
   "id": "f90adf58",
   "metadata": {
    "ExecuteTime": {
     "end_time": "2023-11-29T17:17:16.566131Z",
     "start_time": "2023-11-29T17:17:16.406926Z"
    }
   },
   "outputs": [
    {
     "data": {
      "text/plain": "<Axes: >"
     },
     "execution_count": 79,
     "metadata": {},
     "output_type": "execute_result"
    },
    {
     "data": {
      "text/plain": "<Figure size 640x480 with 2 Axes>",
      "image/png": "[encoded data removed]"
     },
     "metadata": {},
     "output_type": "display_data"
    }
   ],
   "source": [
    "import seaborn as sns\n",
    "sns.heatmap(corr,annot=True,cbar=True, cmap='coolwarm')"
   ]
  },
  {
   "cell_type": "code",
   "execution_count": 80,
   "id": "04e4fee1",
   "metadata": {
    "ExecuteTime": {
     "end_time": "2023-11-29T17:17:16.581391Z",
     "start_time": "2023-11-29T17:17:16.520500Z"
    }
   },
   "outputs": [
    {
     "data": {
      "text/plain": "label\nrice           100\nmaize          100\njute           100\ncotton         100\ncoconut        100\npapaya         100\norange         100\napple          100\nmuskmelon      100\nwatermelon     100\ngrapes         100\nmango          100\nbanana         100\npomegranate    100\nlentil         100\nblackgram      100\nmungbean       100\nmothbeans      100\npigeonpeas     100\nkidneybeans    100\nchickpea       100\ncoffee         100\nName: count, dtype: int64"
     },
     "execution_count": 80,
     "metadata": {},
     "output_type": "execute_result"
    }
   ],
   "source": [
    "crop['label'].value_counts()"
   ]
  },
  {
   "cell_type": "code",
   "execution_count": 81,
   "id": "11427019",
   "metadata": {
    "ExecuteTime": {
     "end_time": "2023-11-29T17:17:16.709638Z",
     "start_time": "2023-11-29T17:17:16.525725Z"
    }
   },
   "outputs": [
    {
     "name": "stderr",
     "output_type": "stream",
     "text": [
      "/var/folders/bf/pwcv68516m7fh8r21_401c7h0000gn/T/ipykernel_31617/585367431.py:2: UserWarning: \n",
      "\n",
      "`distplot` is a deprecated function and will be removed in seaborn v0.14.0.\n",
      "\n",
      "Please adapt your code to use either `displot` (a figure-level function with\n",
      "similar flexibility) or `histplot` (an axes-level function for histograms).\n",
      "\n",
      "For a guide to updating your code to use the new functions, please see\n",
      "https://gist.github.com/mwaskom/de44147ed2974457ad6372750bbe5751\n",
      "\n",
      "  sns.distplot(crop['temperature'])\n",
      "/Users/manubolugangavasudha/.conda/envs/pythonProject/lib/python3.10/site-packages/seaborn/_oldcore.py:1498: FutureWarning: is_categorical_dtype is deprecated and will be removed in a future version. Use isinstance(dtype, CategoricalDtype) instead\n",
      "  if pd.api.types.is_categorical_dtype(vector):\n",
      "/Users/manubolugangavasudha/.conda/envs/pythonProject/lib/python3.10/site-packages/seaborn/_oldcore.py:1119: FutureWarning: use_inf_as_na option is deprecated and will be removed in a future version. Convert inf values to NaN before operating instead.\n",
      "  with pd.option_context('mode.use_inf_as_na', True):\n"
     ]
    },
    {
     "data": {
      "text/plain": "<Figure size 640x480 with 1 Axes>",
      "image/png": "[encoded data removed]"
     },
     "metadata": {},
     "output_type": "display_data"
    }
   ],
   "source": [
    "import matplotlib.pyplot as plt\n",
    "sns.distplot(crop['temperature'])\n",
    "plt.show()"
   ]
  },
  {
   "cell_type": "code",
   "execution_count": 82,
   "id": "d911a908",
   "metadata": {
    "ExecuteTime": {
     "end_time": "2023-11-29T17:17:16.709932Z",
     "start_time": "2023-11-29T17:17:16.635690Z"
    }
   },
   "outputs": [],
   "source": [
    "crop_dict = {\n",
    "    'rice': 1,\n",
    "    'maize': 2,\n",
    "    'jute': 3,\n",
    "    'cotton': 4,\n",
    "    'coconut': 5,\n",
    "    'papaya': 6,\n",
    "    'orange': 7,\n",
    "    'apple': 8,\n",
    "    'muskmelon': 9,\n",
    "    'watermelon': 10,\n",
    "    'grapes': 11,\n",
    "    'mango': 12,\n",
    "    'banana': 13,\n",
    "    'pomegranate': 14,\n",
    "    'lentil': 15,\n",
    "    'blackgram': 16,\n",
    "    'mungbean': 17,\n",
    "    'mothbeans': 18,\n",
    "    'pigeonpeas': 19,\n",
    "    'kidneybeans': 20,\n",
    "    'chickpea': 21,\n",
    "    'coffee': 22\n",
    "}\n",
    "crop['crop_num']=crop['label'].map(crop_dict)"
   ]
  },
  {
   "cell_type": "code",
   "execution_count": 83,
   "id": "7762fa67",
   "metadata": {
    "ExecuteTime": {
     "end_time": "2023-11-29T17:17:16.710244Z",
     "start_time": "2023-11-29T17:17:16.640590Z"
    }
   },
   "outputs": [
    {
     "data": {
      "text/plain": "crop_num\n1     100\n2     100\n3     100\n4     100\n5     100\n6     100\n7     100\n8     100\n9     100\n10    100\n11    100\n12    100\n13    100\n14    100\n15    100\n16    100\n17    100\n18    100\n19    100\n20    100\n21    100\n22    100\nName: count, dtype: int64"
     },
     "execution_count": 83,
     "metadata": {},
     "output_type": "execute_result"
    }
   ],
   "source": [
    "crop['crop_num'].value_counts()"
   ]
  },
  {
   "cell_type": "code",
   "execution_count": 84,
   "id": "ad9b5bd5",
   "metadata": {
    "ExecuteTime": {
     "end_time": "2023-11-29T17:17:16.710558Z",
     "start_time": "2023-11-29T17:17:16.651347Z"
    }
   },
   "outputs": [
    {
     "data": {
      "text/plain": "   temperature   humidity  soilmoisture label  crop_num\n0    20.879744  82.002744    202.935536  rice         1\n1    21.770462  80.319644    226.655537  rice         1\n2    23.004459  82.320763    263.964248  rice         1\n3    26.491096  80.158363    242.864034  rice         1\n4    20.130175  81.604873    262.717340  rice         1",
      "text/html": "<div>\n<style scoped>\n    .dataframe tbody tr th:only-of-type {\n        vertical-align: middle;\n    }\n\n    .dataframe tbody tr th {\n        vertical-align: top;\n    }\n\n    .dataframe thead th {\n        text-align: right;\n    }\n</style>\n<table border=\"1\" class=\"dataframe\">\n  <thead>\n    <tr style=\"text-align: right;\">\n      <th></th>\n      <th>temperature</th>\n      <th>humidity</th>\n      <th>soilmoisture</th>\n      <th>label</th>\n      <th>crop_num</th>\n    </tr>\n  </thead>\n  <tbody>\n    <tr>\n      <th>0</th>\n      <td>20.879744</td>\n      <td>82.002744</td>\n      <td>202.935536</td>\n      <td>rice</td>\n      <td>1</td>\n    </tr>\n    <tr>\n      <th>1</th>\n      <td>21.770462</td>\n      <td>80.319644</td>\n      <td>226.655537</td>\n      <td>rice</td>\n      <td>1</td>\n    </tr>\n    <tr>\n      <th>2</th>\n      <td>23.004459</td>\n      <td>82.320763</td>\n      <td>263.964248</td>\n      <td>rice</td>\n      <td>1</td>\n    </tr>\n    <tr>\n      <th>3</th>\n      <td>26.491096</td>\n      <td>80.158363</td>\n      <td>242.864034</td>\n      <td>rice</td>\n      <td>1</td>\n    </tr>\n    <tr>\n      <th>4</th>\n      <td>20.130175</td>\n      <td>81.604873</td>\n      <td>262.717340</td>\n      <td>rice</td>\n      <td>1</td>\n    </tr>\n  </tbody>\n</table>\n</div>"
     },
     "execution_count": 84,
     "metadata": {},
     "output_type": "execute_result"
    }
   ],
   "source": [
    "# crop.drop(['label'],axis=1,inplace=True)\n",
    "crop.head()"
   ]
  },
  {
   "cell_type": "code",
   "execution_count": 85,
   "id": "9c4759ca",
   "metadata": {
    "ExecuteTime": {
     "end_time": "2023-11-29T17:17:16.710623Z",
     "start_time": "2023-11-29T17:17:16.655505Z"
    }
   },
   "outputs": [],
   "source": [
    "X = crop.drop(['crop_num','label'],axis=1)\n",
    "y = crop['crop_num']"
   ]
  },
  {
   "cell_type": "code",
   "execution_count": 86,
   "id": "a14d2643",
   "metadata": {
    "ExecuteTime": {
     "end_time": "2023-11-29T17:17:16.710898Z",
     "start_time": "2023-11-29T17:17:16.661173Z"
    }
   },
   "outputs": [
    {
     "data": {
      "text/plain": "      temperature   humidity  soilmoisture\n0       20.879744  82.002744    202.935536\n1       21.770462  80.319644    226.655537\n2       23.004459  82.320763    263.964248\n3       26.491096  80.158363    242.864034\n4       20.130175  81.604873    262.717340\n...           ...        ...           ...\n2195    26.774637  66.413269    177.774507\n2196    27.417112  56.636362    127.924610\n2197    24.131797  67.225123    173.322839\n2198    26.272418  52.127394    127.175293\n2199    23.603016  60.396475    140.937041\n\n[2200 rows x 3 columns]",
      "text/html": "<div>\n<style scoped>\n    .dataframe tbody tr th:only-of-type {\n        vertical-align: middle;\n    }\n\n    .dataframe tbody tr th {\n        vertical-align: top;\n    }\n\n    .dataframe thead th {\n        text-align: right;\n    }\n</style>\n<table border=\"1\" class=\"dataframe\">\n  <thead>\n    <tr style=\"text-align: right;\">\n      <th></th>\n      <th>temperature</th>\n      <th>humidity</th>\n      <th>soilmoisture</th>\n    </tr>\n  </thead>\n  <tbody>\n    <tr>\n      <th>0</th>\n      <td>20.879744</td>\n      <td>82.002744</td>\n      <td>202.935536</td>\n    </tr>\n    <tr>\n      <th>1</th>\n      <td>21.770462</td>\n      <td>80.319644</td>\n      <td>226.655537</td>\n    </tr>\n    <tr>\n      <th>2</th>\n      <td>23.004459</td>\n      <td>82.320763</td>\n      <td>263.964248</td>\n    </tr>\n    <tr>\n      <th>3</th>\n      <td>26.491096</td>\n      <td>80.158363</td>\n      <td>242.864034</td>\n    </tr>\n    <tr>\n      <th>4</th>\n      <td>20.130175</td>\n      <td>81.604873</td>\n      <td>262.717340</td>\n    </tr>\n    <tr>\n      <th>...</th>\n      <td>...</td>\n      <td>...</td>\n      <td>...</td>\n    </tr>\n    <tr>\n      <th>2195</th>\n      <td>26.774637</td>\n      <td>66.413269</td>\n      <td>177.774507</td>\n    </tr>\n    <tr>\n      <th>2196</th>\n      <td>27.417112</td>\n      <td>56.636362</td>\n      <td>127.924610</td>\n    </tr>\n    <tr>\n      <th>2197</th>\n      <td>24.131797</td>\n      <td>67.225123</td>\n      <td>173.322839</td>\n    </tr>\n    <tr>\n      <th>2198</th>\n      <td>26.272418</td>\n      <td>52.127394</td>\n      <td>127.175293</td>\n    </tr>\n    <tr>\n      <th>2199</th>\n      <td>23.603016</td>\n      <td>60.396475</td>\n      <td>140.937041</td>\n    </tr>\n  </tbody>\n</table>\n<p>2200 rows × 3 columns</p>\n</div>"
     },
     "execution_count": 86,
     "metadata": {},
     "output_type": "execute_result"
    }
   ],
   "source": [
    "X"
   ]
  },
  {
   "cell_type": "code",
   "execution_count": 87,
   "id": "1d3b87bf",
   "metadata": {
    "ExecuteTime": {
     "end_time": "2023-11-29T17:17:16.711001Z",
     "start_time": "2023-11-29T17:17:16.665747Z"
    }
   },
   "outputs": [
    {
     "data": {
      "text/plain": "(2200,)"
     },
     "execution_count": 87,
     "metadata": {},
     "output_type": "execute_result"
    }
   ],
   "source": [
    "y.shape"
   ]
  },
  {
   "cell_type": "code",
   "execution_count": 88,
   "id": "4641babf",
   "metadata": {
    "ExecuteTime": {
     "end_time": "2023-11-29T17:17:16.711045Z",
     "start_time": "2023-11-29T17:17:16.670060Z"
    }
   },
   "outputs": [],
   "source": [
    "from sklearn.model_selection import train_test_split"
   ]
  },
  {
   "cell_type": "code",
   "execution_count": 89,
   "id": "54fe6b79",
   "metadata": {
    "ExecuteTime": {
     "end_time": "2023-11-29T17:17:16.711315Z",
     "start_time": "2023-11-29T17:17:16.674671Z"
    }
   },
   "outputs": [],
   "source": [
    "X_train, X_test, y_train, y_test = train_test_split(X, y, test_size=0.2, random_state=42)"
   ]
  },
  {
   "cell_type": "code",
   "execution_count": 90,
   "id": "5dcdcf8e",
   "metadata": {
    "ExecuteTime": {
     "end_time": "2023-11-29T17:17:16.711750Z",
     "start_time": "2023-11-29T17:17:16.678732Z"
    }
   },
   "outputs": [
    {
     "data": {
      "text/plain": "(1760, 3)"
     },
     "execution_count": 90,
     "metadata": {},
     "output_type": "execute_result"
    }
   ],
   "source": [
    "X_train.shape"
   ]
  },
  {
   "cell_type": "code",
   "execution_count": 91,
   "id": "711c50f9",
   "metadata": {
    "ExecuteTime": {
     "end_time": "2023-11-29T17:17:16.712042Z",
     "start_time": "2023-11-29T17:17:16.684297Z"
    }
   },
   "outputs": [
    {
     "data": {
      "text/plain": "(440, 3)"
     },
     "execution_count": 91,
     "metadata": {},
     "output_type": "execute_result"
    }
   ],
   "source": [
    "X_test.shape"
   ]
  },
  {
   "cell_type": "code",
   "execution_count": 92,
   "id": "4f52d149",
   "metadata": {
    "ExecuteTime": {
     "end_time": "2023-11-29T17:17:16.712315Z",
     "start_time": "2023-11-29T17:17:16.690808Z"
    }
   },
   "outputs": [
    {
     "data": {
      "text/plain": "      temperature   humidity  soilmoisture\n1656    16.396243  92.181519    102.944161\n752     27.543848  69.347863     69.408782\n892     27.521856  63.132153     45.208411\n1041    25.360592  75.031933    116.553145\n1179    35.474783  47.972305     97.790725\n...           ...        ...           ...\n1638    21.213070  91.353492    112.983436\n1095    27.359116  84.546250     90.812505\n1130    27.920633  51.779659    100.258567\n1294    13.429886  80.066340     71.400430\n860     23.970814  62.355576     53.409060\n\n[1760 rows x 3 columns]",
      "text/html": "<div>\n<style scoped>\n    .dataframe tbody tr th:only-of-type {\n        vertical-align: middle;\n    }\n\n    .dataframe tbody tr th {\n        vertical-align: top;\n    }\n\n    .dataframe thead th {\n        text-align: right;\n    }\n</style>\n<table border=\"1\" class=\"dataframe\">\n  <thead>\n    <tr style=\"text-align: right;\">\n      <th></th>\n      <th>temperature</th>\n      <th>humidity</th>\n      <th>soilmoisture</th>\n    </tr>\n  </thead>\n  <tbody>\n    <tr>\n      <th>1656</th>\n      <td>16.396243</td>\n      <td>92.181519</td>\n      <td>102.944161</td>\n    </tr>\n    <tr>\n      <th>752</th>\n      <td>27.543848</td>\n      <td>69.347863</td>\n      <td>69.408782</td>\n    </tr>\n    <tr>\n      <th>892</th>\n      <td>27.521856</td>\n      <td>63.132153</td>\n      <td>45.208411</td>\n    </tr>\n    <tr>\n      <th>1041</th>\n      <td>25.360592</td>\n      <td>75.031933</td>\n      <td>116.553145</td>\n    </tr>\n    <tr>\n      <th>1179</th>\n      <td>35.474783</td>\n      <td>47.972305</td>\n      <td>97.790725</td>\n    </tr>\n    <tr>\n      <th>...</th>\n      <td>...</td>\n      <td>...</td>\n      <td>...</td>\n    </tr>\n    <tr>\n      <th>1638</th>\n      <td>21.213070</td>\n      <td>91.353492</td>\n      <td>112.983436</td>\n    </tr>\n    <tr>\n      <th>1095</th>\n      <td>27.359116</td>\n      <td>84.546250</td>\n      <td>90.812505</td>\n    </tr>\n    <tr>\n      <th>1130</th>\n      <td>27.920633</td>\n      <td>51.779659</td>\n      <td>100.258567</td>\n    </tr>\n    <tr>\n      <th>1294</th>\n      <td>13.429886</td>\n      <td>80.066340</td>\n      <td>71.400430</td>\n    </tr>\n    <tr>\n      <th>860</th>\n      <td>23.970814</td>\n      <td>62.355576</td>\n      <td>53.409060</td>\n    </tr>\n  </tbody>\n</table>\n<p>1760 rows × 3 columns</p>\n</div>"
     },
     "execution_count": 92,
     "metadata": {},
     "output_type": "execute_result"
    }
   ],
   "source": [
    "X_train"
   ]
  },
  {
   "cell_type": "code",
   "execution_count": 93,
   "id": "4273b87c",
   "metadata": {
    "ExecuteTime": {
     "end_time": "2023-11-29T17:17:16.712370Z",
     "start_time": "2023-11-29T17:17:16.698732Z"
    }
   },
   "outputs": [],
   "source": [
    "from sklearn.preprocessing import MinMaxScaler\n",
    "ms = MinMaxScaler()\n",
    "\n",
    "X_train = ms.fit_transform(X_train)\n",
    "X_test = ms.transform(X_test)"
   ]
  },
  {
   "cell_type": "code",
   "execution_count": 94,
   "id": "1d461cd0",
   "metadata": {
    "ExecuteTime": {
     "end_time": "2023-11-29T17:17:16.733758Z",
     "start_time": "2023-11-29T17:17:16.705878Z"
    }
   },
   "outputs": [
    {
     "data": {
      "text/plain": "array([[0.21723408, 0.9089898 , 0.29685161],\n       [0.53710965, 0.64257946, 0.17630752],\n       [0.53647858, 0.57005802, 0.08931844],\n       ...,\n       [0.54792131, 0.43760347, 0.28719815],\n       [0.1321158 , 0.76763665, 0.18346657],\n       [0.43458302, 0.56099735, 0.11879596]])"
     },
     "execution_count": 94,
     "metadata": {},
     "output_type": "execute_result"
    }
   ],
   "source": [
    "X_train"
   ]
  },
  {
   "cell_type": "code",
   "execution_count": 95,
   "id": "c28cdd4f",
   "metadata": {
    "ExecuteTime": {
     "end_time": "2023-11-29T17:17:16.754878Z",
     "start_time": "2023-11-29T17:17:16.714742Z"
    }
   },
   "outputs": [],
   "source": [
    "from sklearn.preprocessing import StandardScaler\n",
    "sc = StandardScaler()\n",
    "\n",
    "\n",
    "sc.fit(X_train)\n",
    "X_train = sc.transform(X_train)\n",
    "X_test = sc.transform(X_test)"
   ]
  },
  {
   "cell_type": "code",
   "execution_count": 96,
   "id": "2b1c3f75",
   "metadata": {
    "ExecuteTime": {
     "end_time": "2023-11-29T17:17:16.755391Z",
     "start_time": "2023-11-29T17:17:16.723163Z"
    }
   },
   "outputs": [
    {
     "data": {
      "text/plain": "array([[-1.80469186,  0.93658618,  0.0051497 ],\n       [ 0.38599999, -0.10047048, -0.60529057],\n       [ 0.38167811, -0.38277499, -1.04580687],\n       ...,\n       [ 0.46004447, -0.89838138, -0.04373582],\n       [-2.38763079,  0.38634019, -0.56903684],\n       [-0.31616132, -0.41804549, -0.89653148]])"
     },
     "execution_count": 96,
     "metadata": {},
     "output_type": "execute_result"
    }
   ],
   "source": [
    "X_train"
   ]
  },
  {
   "cell_type": "code",
   "execution_count": 97,
   "id": "7f719926",
   "metadata": {
    "ExecuteTime": {
     "end_time": "2023-11-29T17:17:21.477819Z",
     "start_time": "2023-11-29T17:17:16.735351Z"
    }
   },
   "outputs": [
    {
     "name": "stdout",
     "output_type": "stream",
     "text": [
      "Logistic Regression  with accuracy : 0.7136363636363636\n",
      "Naive Bayes  with accuracy : 0.9022727272727272\n",
      "Support Vector Machine  with accuracy : 0.8409090909090909\n",
      "K-Nearest Neighbors  with accuracy : 0.8477272727272728\n",
      "Decision Tree  with accuracy : 0.9022727272727272\n",
      "Random Forest  with accuracy : 0.9068181818181819\n",
      "Bagging  with accuracy : 0.9\n",
      "AdaBoost  with accuracy : 0.10909090909090909\n",
      "Gradient Boosting  with accuracy : 0.9022727272727272\n",
      "Extra Trees  with accuracy : 0.7636363636363637\n"
     ]
    }
   ],
   "source": [
    "from sklearn.linear_model import LogisticRegression\n",
    "from sklearn.naive_bayes import GaussianNB\n",
    "from sklearn.svm import SVC\n",
    "from sklearn.neighbors import KNeighborsClassifier\n",
    "from sklearn.tree import DecisionTreeClassifier\n",
    "from sklearn.tree import ExtraTreeClassifier\n",
    "from sklearn.ensemble import RandomForestClassifier\n",
    "from sklearn.ensemble import BaggingClassifier\n",
    "from sklearn.ensemble import GradientBoostingClassifier\n",
    "from sklearn.ensemble import AdaBoostClassifier\n",
    "from sklearn.metrics import accuracy_score\n",
    "\n",
    "# create instances of all models\n",
    "models = {\n",
    "    'Logistic Regression': LogisticRegression(),\n",
    "    'Naive Bayes': GaussianNB(),\n",
    "    'Support Vector Machine': SVC(),\n",
    "    'K-Nearest Neighbors': KNeighborsClassifier(),\n",
    "    'Decision Tree': DecisionTreeClassifier(),\n",
    "    'Random Forest': RandomForestClassifier(),\n",
    "    'Bagging': BaggingClassifier(),\n",
    "    'AdaBoost': AdaBoostClassifier(),\n",
    "    'Gradient Boosting': GradientBoostingClassifier(),\n",
    "    'Extra Trees': ExtraTreeClassifier(),\n",
    "}\n",
    "\n",
    "\n",
    "for name, md in models.items():\n",
    "    md.fit(X_train,y_train)\n",
    "    ypred = md.predict(X_test)\n",
    "    \n",
    "    print(f\"{name}  with accuracy : {accuracy_score(y_test,ypred)}\")"
   ]
  },
  {
   "cell_type": "code",
   "execution_count": 98,
   "id": "8912609a",
   "metadata": {
    "ExecuteTime": {
     "end_time": "2023-11-29T17:17:21.649655Z",
     "start_time": "2023-11-29T17:17:21.479625Z"
    }
   },
   "outputs": [
    {
     "data": {
      "text/plain": "0.9068181818181819"
     },
     "execution_count": 98,
     "metadata": {},
     "output_type": "execute_result"
    }
   ],
   "source": [
    "rfc = RandomForestClassifier()\n",
    "rfc.fit(X_train,y_train)\n",
    "ypred = rfc.predict(X_test)\n",
    "accuracy_score(y_test,ypred)"
   ]
  },
  {
   "cell_type": "code",
   "execution_count": 99,
   "id": "b6eff901",
   "metadata": {
    "ExecuteTime": {
     "end_time": "2023-11-29T17:17:21.650759Z",
     "start_time": "2023-11-29T17:17:21.648774Z"
    }
   },
   "outputs": [],
   "source": [
    "def recommendation(temperature,humidity,soilmoisture):\n",
    "    features = np.array([[temperature,humidity,soilmoisture]])\n",
    "    transformed_features = ms.fit_transform(features)\n",
    "    transformed_features = sc.fit_transform(transformed_features)\n",
    "    prediction = rfc.predict(transformed_features).reshape(1,-1)\n",
    "    \n",
    "    return prediction[0] "
   ]
  },
  {
   "cell_type": "code",
   "execution_count": 100,
   "id": "941f612b",
   "metadata": {
    "ExecuteTime": {
     "end_time": "2023-11-29T17:17:21.658404Z",
     "start_time": "2023-11-29T17:17:21.653774Z"
    }
   },
   "outputs": [
    {
     "name": "stdout",
     "output_type": "stream",
     "text": [
      "Maize is a best crop to be cultivated \n"
     ]
    }
   ],
   "source": [
    "temperature = 40.0\n",
    "humidity = 20\n",
    "soilmoisture = 100\n",
    "\n",
    "predict = recommendation(temperature,humidity,soilmoisture)\n",
    "\n",
    "\n",
    "crop_dict = {1: \"Rice\", 2: \"Maize\", 3: \"Jute\", 4: \"Cotton\", 5: \"Coconut\", 6: \"Papaya\", 7: \"Orange\",\n",
    "                 8: \"Apple\", 9: \"Muskmelon\", 10: \"Watermelon\", 11: \"Grapes\", 12: \"Mango\", 13: \"Banana\",\n",
    "                 14: \"Pomegranate\", 15: \"Lentil\", 16: \"Blackgram\", 17: \"Mungbean\", 18: \"Mothbeans\",\n",
    "                 19: \"Pigeonpeas\", 20: \"Kidneybeans\", 21: \"Chickpea\", 22: \"Coffee\"}\n",
    "\n",
    "if predict[0] in crop_dict:\n",
    "    crop = crop_dict[predict[0]]\n",
    "    print(\"{} is a best crop to be cultivated \".format(crop))\n",
    "else:\n",
    "    print(\"Sorry are not able to recommend a proper crop for this environment\")"
   ]
  },
  {
   "cell_type": "code",
   "execution_count": 101,
   "id": "4ce5c950",
   "metadata": {
    "ExecuteTime": {
     "end_time": "2023-11-29T17:17:21.687832Z",
     "start_time": "2023-11-29T17:17:21.659491Z"
    }
   },
   "outputs": [],
   "source": [
    "import pickle\n",
    "pickle.dump(rfc,open('model.pkl','wb'))\n",
    "pickle.dump(ms,open('minmaxscaler.pkl','wb'))\n",
    "pickle.dump(sc,open('standscaler.pkl','wb'))"
   ]
  },
  {
   "cell_type": "code",
   "execution_count": 101,
   "outputs": [],
   "source": [],
   "metadata": {
    "collapsed": false,
    "ExecuteTime": {
     "end_time": "2023-11-29T17:17:21.693002Z",
     "start_time": "2023-11-29T17:17:21.670442Z"
    }
   },
   "id": "e50d5701170fd023"
  }
 ],
 "metadata": {
  "kernelspec": {
   "display_name": "Python 3 (ipykernel)",
   "language": "python",
   "name": "python3"
  },
  "language_info": {
   "codemirror_mode": {
    "name": "ipython",
    "version": 3
   },
   "file_extension": ".py",
   "mimetype": "text/x-python",
   "name": "python",
   "nbconvert_exporter": "python",
   "pygments_lexer": "ipython3",
   "version": "3.9.13"
  }
 },
 "nbformat": 4,
 "nbformat_minor": 5
}
